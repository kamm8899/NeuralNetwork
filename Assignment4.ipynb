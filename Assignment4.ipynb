{
 "cells": [
  {
   "cell_type": "markdown",
   "id": "43bdafee",
   "metadata": {},
   "source": [
    "Step 1: use our “titanic” dataset in homework #3, and split data in the same way you did in\n",
    "homework #3 – 80% as training and 20% test sets"
   ]
  },
  {
   "cell_type": "code",
   "execution_count": 1,
   "id": "0b32611d",
   "metadata": {},
   "outputs": [],
   "source": [
    "import pandas as pd\n",
    "import matplotlib.pyplot as plt\n",
    "import numpy as np\n",
    "from sklearn.model_selection import train_test_split"
   ]
  },
  {
   "cell_type": "code",
   "execution_count": 2,
   "id": "295fed3b",
   "metadata": {},
   "outputs": [],
   "source": [
    "df = pd.read_csv('Titanic.csv', index_col=0)"
   ]
  },
  {
   "cell_type": "code",
   "execution_count": 3,
   "id": "c0780b26",
   "metadata": {},
   "outputs": [
    {
     "data": {
      "text/html": [
       "<div>\n",
       "<style scoped>\n",
       "    .dataframe tbody tr th:only-of-type {\n",
       "        vertical-align: middle;\n",
       "    }\n",
       "\n",
       "    .dataframe tbody tr th {\n",
       "        vertical-align: top;\n",
       "    }\n",
       "\n",
       "    .dataframe thead th {\n",
       "        text-align: right;\n",
       "    }\n",
       "</style>\n",
       "<table border=\"1\" class=\"dataframe\">\n",
       "  <thead>\n",
       "    <tr style=\"text-align: right;\">\n",
       "      <th></th>\n",
       "      <th>pclass</th>\n",
       "      <th>survived</th>\n",
       "      <th>name</th>\n",
       "      <th>sex</th>\n",
       "      <th>age</th>\n",
       "      <th>sibsp</th>\n",
       "      <th>parch</th>\n",
       "      <th>ticket</th>\n",
       "      <th>fare</th>\n",
       "      <th>cabin</th>\n",
       "      <th>embarked</th>\n",
       "      <th>boat</th>\n",
       "      <th>body</th>\n",
       "      <th>home.dest</th>\n",
       "    </tr>\n",
       "  </thead>\n",
       "  <tbody>\n",
       "    <tr>\n",
       "      <th>1</th>\n",
       "      <td>1st</td>\n",
       "      <td>1</td>\n",
       "      <td>Allen, Miss. Elisabeth Walton</td>\n",
       "      <td>female</td>\n",
       "      <td>29.0000</td>\n",
       "      <td>0</td>\n",
       "      <td>0</td>\n",
       "      <td>24160</td>\n",
       "      <td>211.337494</td>\n",
       "      <td>B5</td>\n",
       "      <td>Southampton</td>\n",
       "      <td>2</td>\n",
       "      <td>NaN</td>\n",
       "      <td>St Louis, MO</td>\n",
       "    </tr>\n",
       "    <tr>\n",
       "      <th>2</th>\n",
       "      <td>1st</td>\n",
       "      <td>1</td>\n",
       "      <td>Allison, Master. Hudson Trevor</td>\n",
       "      <td>male</td>\n",
       "      <td>0.9167</td>\n",
       "      <td>1</td>\n",
       "      <td>2</td>\n",
       "      <td>113781</td>\n",
       "      <td>151.550003</td>\n",
       "      <td>C22 C26</td>\n",
       "      <td>Southampton</td>\n",
       "      <td>11</td>\n",
       "      <td>NaN</td>\n",
       "      <td>Montreal, PQ / Chesterville, ON</td>\n",
       "    </tr>\n",
       "    <tr>\n",
       "      <th>3</th>\n",
       "      <td>1st</td>\n",
       "      <td>0</td>\n",
       "      <td>Allison, Miss. Helen Loraine</td>\n",
       "      <td>female</td>\n",
       "      <td>2.0000</td>\n",
       "      <td>1</td>\n",
       "      <td>2</td>\n",
       "      <td>113781</td>\n",
       "      <td>151.550003</td>\n",
       "      <td>C22 C26</td>\n",
       "      <td>Southampton</td>\n",
       "      <td>NaN</td>\n",
       "      <td>NaN</td>\n",
       "      <td>Montreal, PQ / Chesterville, ON</td>\n",
       "    </tr>\n",
       "    <tr>\n",
       "      <th>4</th>\n",
       "      <td>1st</td>\n",
       "      <td>0</td>\n",
       "      <td>Allison, Mr. Hudson Joshua Crei</td>\n",
       "      <td>male</td>\n",
       "      <td>30.0000</td>\n",
       "      <td>1</td>\n",
       "      <td>2</td>\n",
       "      <td>113781</td>\n",
       "      <td>151.550003</td>\n",
       "      <td>C22 C26</td>\n",
       "      <td>Southampton</td>\n",
       "      <td>NaN</td>\n",
       "      <td>135.0</td>\n",
       "      <td>Montreal, PQ / Chesterville, ON</td>\n",
       "    </tr>\n",
       "    <tr>\n",
       "      <th>5</th>\n",
       "      <td>1st</td>\n",
       "      <td>0</td>\n",
       "      <td>Allison, Mrs. Hudson J C (Bessi</td>\n",
       "      <td>female</td>\n",
       "      <td>25.0000</td>\n",
       "      <td>1</td>\n",
       "      <td>2</td>\n",
       "      <td>113781</td>\n",
       "      <td>151.550003</td>\n",
       "      <td>C22 C26</td>\n",
       "      <td>Southampton</td>\n",
       "      <td>NaN</td>\n",
       "      <td>NaN</td>\n",
       "      <td>Montreal, PQ / Chesterville, ON</td>\n",
       "    </tr>\n",
       "    <tr>\n",
       "      <th>...</th>\n",
       "      <td>...</td>\n",
       "      <td>...</td>\n",
       "      <td>...</td>\n",
       "      <td>...</td>\n",
       "      <td>...</td>\n",
       "      <td>...</td>\n",
       "      <td>...</td>\n",
       "      <td>...</td>\n",
       "      <td>...</td>\n",
       "      <td>...</td>\n",
       "      <td>...</td>\n",
       "      <td>...</td>\n",
       "      <td>...</td>\n",
       "      <td>...</td>\n",
       "    </tr>\n",
       "    <tr>\n",
       "      <th>1305</th>\n",
       "      <td>3rd</td>\n",
       "      <td>0</td>\n",
       "      <td>Zabour, Miss. Hileni</td>\n",
       "      <td>female</td>\n",
       "      <td>14.5000</td>\n",
       "      <td>1</td>\n",
       "      <td>0</td>\n",
       "      <td>2665</td>\n",
       "      <td>14.454200</td>\n",
       "      <td>NaN</td>\n",
       "      <td>Cherbourg</td>\n",
       "      <td>NaN</td>\n",
       "      <td>328.0</td>\n",
       "      <td>NaN</td>\n",
       "    </tr>\n",
       "    <tr>\n",
       "      <th>1306</th>\n",
       "      <td>3rd</td>\n",
       "      <td>0</td>\n",
       "      <td>Zabour, Miss. Thamine</td>\n",
       "      <td>female</td>\n",
       "      <td>NaN</td>\n",
       "      <td>1</td>\n",
       "      <td>0</td>\n",
       "      <td>2665</td>\n",
       "      <td>14.454200</td>\n",
       "      <td>NaN</td>\n",
       "      <td>Cherbourg</td>\n",
       "      <td>NaN</td>\n",
       "      <td>NaN</td>\n",
       "      <td>NaN</td>\n",
       "    </tr>\n",
       "    <tr>\n",
       "      <th>1307</th>\n",
       "      <td>3rd</td>\n",
       "      <td>0</td>\n",
       "      <td>Zakarian, Mr. Mapriededer</td>\n",
       "      <td>male</td>\n",
       "      <td>26.5000</td>\n",
       "      <td>0</td>\n",
       "      <td>0</td>\n",
       "      <td>2656</td>\n",
       "      <td>7.225000</td>\n",
       "      <td>NaN</td>\n",
       "      <td>Cherbourg</td>\n",
       "      <td>NaN</td>\n",
       "      <td>304.0</td>\n",
       "      <td>NaN</td>\n",
       "    </tr>\n",
       "    <tr>\n",
       "      <th>1308</th>\n",
       "      <td>3rd</td>\n",
       "      <td>0</td>\n",
       "      <td>Zakarian, Mr. Ortin</td>\n",
       "      <td>male</td>\n",
       "      <td>27.0000</td>\n",
       "      <td>0</td>\n",
       "      <td>0</td>\n",
       "      <td>2670</td>\n",
       "      <td>7.225000</td>\n",
       "      <td>NaN</td>\n",
       "      <td>Cherbourg</td>\n",
       "      <td>NaN</td>\n",
       "      <td>NaN</td>\n",
       "      <td>NaN</td>\n",
       "    </tr>\n",
       "    <tr>\n",
       "      <th>1309</th>\n",
       "      <td>3rd</td>\n",
       "      <td>0</td>\n",
       "      <td>Zimmerman, Mr. Leo</td>\n",
       "      <td>male</td>\n",
       "      <td>29.0000</td>\n",
       "      <td>0</td>\n",
       "      <td>0</td>\n",
       "      <td>315082</td>\n",
       "      <td>7.875000</td>\n",
       "      <td>NaN</td>\n",
       "      <td>Southampton</td>\n",
       "      <td>NaN</td>\n",
       "      <td>NaN</td>\n",
       "      <td>NaN</td>\n",
       "    </tr>\n",
       "  </tbody>\n",
       "</table>\n",
       "<p>1309 rows × 14 columns</p>\n",
       "</div>"
      ],
      "text/plain": [
       "     pclass  survived                             name     sex      age  \\\n",
       "1       1st         1    Allen, Miss. Elisabeth Walton  female  29.0000   \n",
       "2       1st         1   Allison, Master. Hudson Trevor    male   0.9167   \n",
       "3       1st         0     Allison, Miss. Helen Loraine  female   2.0000   \n",
       "4       1st         0  Allison, Mr. Hudson Joshua Crei    male  30.0000   \n",
       "5       1st         0  Allison, Mrs. Hudson J C (Bessi  female  25.0000   \n",
       "...     ...       ...                              ...     ...      ...   \n",
       "1305    3rd         0             Zabour, Miss. Hileni  female  14.5000   \n",
       "1306    3rd         0            Zabour, Miss. Thamine  female      NaN   \n",
       "1307    3rd         0        Zakarian, Mr. Mapriededer    male  26.5000   \n",
       "1308    3rd         0              Zakarian, Mr. Ortin    male  27.0000   \n",
       "1309    3rd         0               Zimmerman, Mr. Leo    male  29.0000   \n",
       "\n",
       "      sibsp  parch  ticket        fare    cabin     embarked boat   body  \\\n",
       "1         0      0   24160  211.337494       B5  Southampton    2    NaN   \n",
       "2         1      2  113781  151.550003  C22 C26  Southampton   11    NaN   \n",
       "3         1      2  113781  151.550003  C22 C26  Southampton  NaN    NaN   \n",
       "4         1      2  113781  151.550003  C22 C26  Southampton  NaN  135.0   \n",
       "5         1      2  113781  151.550003  C22 C26  Southampton  NaN    NaN   \n",
       "...     ...    ...     ...         ...      ...          ...  ...    ...   \n",
       "1305      1      0    2665   14.454200      NaN    Cherbourg  NaN  328.0   \n",
       "1306      1      0    2665   14.454200      NaN    Cherbourg  NaN    NaN   \n",
       "1307      0      0    2656    7.225000      NaN    Cherbourg  NaN  304.0   \n",
       "1308      0      0    2670    7.225000      NaN    Cherbourg  NaN    NaN   \n",
       "1309      0      0  315082    7.875000      NaN  Southampton  NaN    NaN   \n",
       "\n",
       "                            home.dest  \n",
       "1                        St Louis, MO  \n",
       "2     Montreal, PQ / Chesterville, ON  \n",
       "3     Montreal, PQ / Chesterville, ON  \n",
       "4     Montreal, PQ / Chesterville, ON  \n",
       "5     Montreal, PQ / Chesterville, ON  \n",
       "...                               ...  \n",
       "1305                              NaN  \n",
       "1306                              NaN  \n",
       "1307                              NaN  \n",
       "1308                              NaN  \n",
       "1309                              NaN  \n",
       "\n",
       "[1309 rows x 14 columns]"
      ]
     },
     "execution_count": 3,
     "metadata": {},
     "output_type": "execute_result"
    }
   ],
   "source": [
    "df"
   ]
  },
  {
   "cell_type": "code",
   "execution_count": 4,
   "id": "96dc8de1",
   "metadata": {},
   "outputs": [],
   "source": [
    "numerical_column= [\"survived\",\"age\", \"sibsp\"]\n",
    "categorical_column= [\"pclass\", \"sex\"]"
   ]
  },
  {
   "cell_type": "code",
   "execution_count": 5,
   "id": "b7e37c44",
   "metadata": {},
   "outputs": [],
   "source": [
    "#replace null values with mean\n",
    "for column_name in [\"age\",\"sibsp\"]:\n",
    "    df[column_name].fillna(int(df[column_name].mean()), inplace=True)"
   ]
  },
  {
   "cell_type": "code",
   "execution_count": 6,
   "id": "fc16fe18",
   "metadata": {},
   "outputs": [
    {
     "data": {
      "text/html": [
       "<div>\n",
       "<style scoped>\n",
       "    .dataframe tbody tr th:only-of-type {\n",
       "        vertical-align: middle;\n",
       "    }\n",
       "\n",
       "    .dataframe tbody tr th {\n",
       "        vertical-align: top;\n",
       "    }\n",
       "\n",
       "    .dataframe thead th {\n",
       "        text-align: right;\n",
       "    }\n",
       "</style>\n",
       "<table border=\"1\" class=\"dataframe\">\n",
       "  <thead>\n",
       "    <tr style=\"text-align: right;\">\n",
       "      <th></th>\n",
       "      <th>pclass</th>\n",
       "      <th>sex</th>\n",
       "    </tr>\n",
       "  </thead>\n",
       "  <tbody>\n",
       "    <tr>\n",
       "      <th>0</th>\n",
       "      <td>3rd</td>\n",
       "      <td>male</td>\n",
       "    </tr>\n",
       "  </tbody>\n",
       "</table>\n",
       "</div>"
      ],
      "text/plain": [
       "  pclass   sex\n",
       "0    3rd  male"
      ]
     },
     "execution_count": 6,
     "metadata": {},
     "output_type": "execute_result"
    }
   ],
   "source": [
    "df[categorical_column].mode()\n",
    "#checks if they are all categorical variables"
   ]
  },
  {
   "cell_type": "code",
   "execution_count": 7,
   "id": "0341cb17",
   "metadata": {},
   "outputs": [],
   "source": [
    "#replace null values with mean\n",
    "for column_name in [\"pclass\",\"sex\"]:\n",
    "    #fill most common values\n",
    "    df[column_name].fillna(df[column_name].mode(), inplace=True)\n",
    "    #binaries categorical values\n",
    "    encoded_columns= pd.get_dummies(df[column_name],prefix= column_name)\n",
    "    #concat to existing dataframe\n",
    "    df=pd.concat([df,encoded_columns],axis=1)\n",
    "    #delete, axis=1, column of dataframe\n",
    "    df.drop(column_name, axis=1, inplace=True)"
   ]
  },
  {
   "cell_type": "code",
   "execution_count": 8,
   "id": "e9aa8714",
   "metadata": {},
   "outputs": [],
   "source": [
    "#training and testing\n",
    "X=df[[\"age\", \"sibsp\", \"sex_female\",\"sex_male\", \"pclass_1st\",\"pclass_2nd\",\"pclass_3rd\"]]\n",
    "y=df[[\"survived\"]]\n",
    "X_train, X_test, y_train, y_test = train_test_split(\n",
    "       X, y, test_size=0.2, random_state=42)"
   ]
  },
  {
   "cell_type": "markdown",
   "id": "baa6c72e",
   "metadata": {},
   "source": [
    "Step 2: Fit a neural network using independent variables ‘pclass + sex + age + sibsp’ and\n",
    "dependent variable ‘survived’. Fill in n/a attributes with the average of the same attributes\n",
    "from other training examples. Use 2 hidden layers and set the activation functions for both the\n",
    "hidden and output layer to be the sigmoid function. Set “solver” parameter as either SGD\n",
    "(stochastic gradient descend) or Adam (similar to SGD but optimized performance with mini\n",
    "batches). You can adjust parameter “alpha” for regularization (to control overfitting) and other\n",
    "parameters such as “learning rate” and “momentum” as needed."
   ]
  },
  {
   "cell_type": "code",
   "execution_count": 31,
   "id": "5af86967",
   "metadata": {},
   "outputs": [
    {
     "name": "stderr",
     "output_type": "stream",
     "text": [
      "/Users/jessicakammann/opt/anaconda3/lib/python3.9/site-packages/sklearn/neural_network/_multilayer_perceptron.py:1109: DataConversionWarning: A column-vector y was passed when a 1d array was expected. Please change the shape of y to (n_samples, ), for example using ravel().\n",
      "  y = column_or_1d(y, warn=True)\n",
      "/Users/jessicakammann/opt/anaconda3/lib/python3.9/site-packages/sklearn/neural_network/_multilayer_perceptron.py:692: ConvergenceWarning: Stochastic Optimizer: Maximum iterations (280) reached and the optimization hasn't converged yet.\n",
      "  warnings.warn(\n"
     ]
    },
    {
     "data": {
      "text/plain": [
       "MLPClassifier(activation='logistic', alpha=1e-07, hidden_layer_sizes=(5, 3),\n",
       "              max_iter=280, random_state=1)"
      ]
     },
     "execution_count": 31,
     "metadata": {},
     "output_type": "execute_result"
    }
   ],
   "source": [
    "from sklearn.neural_network import MLPClassifier\n",
    "#logisitic=sigmoid\n",
    "clf = MLPClassifier(solver='adam', alpha=1e-7,\n",
    "                    hidden_layer_sizes=(5, 3),activation='logistic',max_iter=280, random_state=1)\n",
    "clf.fit(X_train, y_train)\n",
    "#second one change hidden layer sizes, instead 50,2, 50 nodes\n",
    "#make function for step 4 \n"
   ]
  },
  {
   "cell_type": "code",
   "execution_count": 39,
   "id": "f15454a2",
   "metadata": {},
   "outputs": [],
   "source": [
    "# Step 4 \n",
    "#make a function cell 10 through 14 \n",
    "predictions = clf.predict(X_test)\n"
   ]
  },
  {
   "cell_type": "code",
   "execution_count": 46,
   "id": "10216c5d",
   "metadata": {},
   "outputs": [],
   "source": [
    "\n",
    "y_test[\"predictions\"]= predictions\n",
    "#y_test[\"predictions\"]= np.round(predictions[:,1],1)\n"
   ]
  },
  {
   "cell_type": "code",
   "execution_count": 41,
   "id": "62358ec7",
   "metadata": {},
   "outputs": [
    {
     "data": {
      "text/plain": [
       "<AxesSubplot:xlabel='predictions'>"
      ]
     },
     "execution_count": 41,
     "metadata": {},
     "output_type": "execute_result"
    },
    {
     "data": {
      "image/png": "[encoded data removed]",
      "text/plain": [
       "<Figure size 640x480 with 1 Axes>"
      ]
     },
     "metadata": {},
     "output_type": "display_data"
    }
   ],
   "source": [
    "y_test.groupby(\"predictions\")[\"survived\"].mean().plot()\n",
    "#sigmoid function is the same as probability function as an output classifier\n",
    "#lots of false positive that they may or may not survive\n",
    "#the lower the predicted the probablity the lower the probability the person survived"
   ]
  },
  {
   "cell_type": "code",
   "execution_count": 42,
   "id": "00d966e2",
   "metadata": {},
   "outputs": [],
   "source": [
    "#only give me survivors, and how often was I right\n",
    "survivors = y_test[y_test[\"survived\"]==1]\n",
    "fatalities = y_test[y_test[\"survived\"]==0]"
   ]
  },
  {
   "cell_type": "code",
   "execution_count": 43,
   "id": "7b1e720a",
   "metadata": {},
   "outputs": [
    {
     "data": {
      "text/plain": [
       "True     0.533898\n",
       "False    0.466102\n",
       "dtype: float64"
      ]
     },
     "execution_count": 43,
     "metadata": {},
     "output_type": "execute_result"
    }
   ],
   "source": [
    "#how often is survived=predictions, accuracy score 197 times \n",
    "(survivors[\"survived\"]==survivors[\"predictions\"]).value_counts()/ len(survivors)"
   ]
  },
  {
   "cell_type": "code",
   "execution_count": 44,
   "id": "e9f91133",
   "metadata": {},
   "outputs": [
    {
     "data": {
      "text/plain": [
       "True     0.930556\n",
       "False    0.069444\n",
       "dtype: float64"
      ]
     },
     "execution_count": 44,
     "metadata": {},
     "output_type": "execute_result"
    }
   ],
   "source": [
    "(fatalities[\"survived\"]==fatalities[\"predictions\"]).value_counts()/ len(fatalities)"
   ]
  },
  {
   "cell_type": "markdown",
   "id": "a3b1848d-cc57-481a-99cd-6e57214f18b2",
   "metadata": {},
   "source": [
    "Step 3:Check the performance of the model with out-of- sample accuracy, defined as\n",
    "out-of-sample percent survivors correctly predicted (on test set)\n",
    "out-of-sample percent fatalities correctly predicted (on test set)\n",
    "\n",
    "I have also done the accuracy like it was done on last assignment, but also wanted to do it as intended via confusion matrix\n"
   ]
  },
  {
   "cell_type": "code",
   "execution_count": 47,
   "id": "8d5b63d8-b0de-4654-9be4-754b6b3d4072",
   "metadata": {},
   "outputs": [
    {
     "ename": "ValueError",
     "evalue": "Length of values (262) does not match length of index (1047)",
     "output_type": "error",
     "traceback": [
      "\u001b[0;31m---------------------------------------------------------------------------\u001b[0m",
      "\u001b[0;31mValueError\u001b[0m                                Traceback (most recent call last)",
      "\u001b[0;32m/var/folders/hr/3dhbmnc50n7csq4c8dgqc60r0000gn/T/ipykernel_36439/147584574.py\u001b[0m in \u001b[0;36m<module>\u001b[0;34m\u001b[0m\n\u001b[1;32m      1\u001b[0m \u001b[0;32mfrom\u001b[0m \u001b[0msklearn\u001b[0m\u001b[0;34m.\u001b[0m\u001b[0mmetrics\u001b[0m \u001b[0;32mimport\u001b[0m \u001b[0mclassification_report\u001b[0m\u001b[0;34m,\u001b[0m \u001b[0mconfusion_matrix\u001b[0m\u001b[0;34m\u001b[0m\u001b[0;34m\u001b[0m\u001b[0m\n\u001b[1;32m      2\u001b[0m \u001b[0mpredictions_new\u001b[0m \u001b[0;34m=\u001b[0m \u001b[0mclf\u001b[0m\u001b[0;34m.\u001b[0m\u001b[0mpredict\u001b[0m\u001b[0;34m(\u001b[0m\u001b[0mX_train\u001b[0m\u001b[0;34m)\u001b[0m\u001b[0;34m\u001b[0m\u001b[0;34m\u001b[0m\u001b[0m\n\u001b[0;32m----> 3\u001b[0;31m \u001b[0my_train\u001b[0m\u001b[0;34m[\u001b[0m\u001b[0;34m\"predictions\"\u001b[0m\u001b[0;34m]\u001b[0m\u001b[0;34m=\u001b[0m \u001b[0mpredictions\u001b[0m\u001b[0;34m\u001b[0m\u001b[0;34m\u001b[0m\u001b[0m\n\u001b[0m\u001b[1;32m      4\u001b[0m \u001b[0;34m\u001b[0m\u001b[0m\n\u001b[1;32m      5\u001b[0m \u001b[0;31m#Traning Set\u001b[0m\u001b[0;34m\u001b[0m\u001b[0;34m\u001b[0m\u001b[0m\n",
      "\u001b[0;32m~/opt/anaconda3/lib/python3.9/site-packages/pandas/core/frame.py\u001b[0m in \u001b[0;36m__setitem__\u001b[0;34m(self, key, value)\u001b[0m\n\u001b[1;32m   3653\u001b[0m         \u001b[0;32melse\u001b[0m\u001b[0;34m:\u001b[0m\u001b[0;34m\u001b[0m\u001b[0;34m\u001b[0m\u001b[0m\n\u001b[1;32m   3654\u001b[0m             \u001b[0;31m# set column\u001b[0m\u001b[0;34m\u001b[0m\u001b[0;34m\u001b[0m\u001b[0m\n\u001b[0;32m-> 3655\u001b[0;31m             \u001b[0mself\u001b[0m\u001b[0;34m.\u001b[0m\u001b[0m_set_item\u001b[0m\u001b[0;34m(\u001b[0m\u001b[0mkey\u001b[0m\u001b[0;34m,\u001b[0m \u001b[0mvalue\u001b[0m\u001b[0;34m)\u001b[0m\u001b[0;34m\u001b[0m\u001b[0;34m\u001b[0m\u001b[0m\n\u001b[0m\u001b[1;32m   3656\u001b[0m \u001b[0;34m\u001b[0m\u001b[0m\n\u001b[1;32m   3657\u001b[0m     \u001b[0;32mdef\u001b[0m \u001b[0m_setitem_slice\u001b[0m\u001b[0;34m(\u001b[0m\u001b[0mself\u001b[0m\u001b[0;34m,\u001b[0m \u001b[0mkey\u001b[0m\u001b[0;34m:\u001b[0m \u001b[0mslice\u001b[0m\u001b[0;34m,\u001b[0m \u001b[0mvalue\u001b[0m\u001b[0;34m)\u001b[0m\u001b[0;34m:\u001b[0m\u001b[0;34m\u001b[0m\u001b[0;34m\u001b[0m\u001b[0m\n",
      "\u001b[0;32m~/opt/anaconda3/lib/python3.9/site-packages/pandas/core/frame.py\u001b[0m in \u001b[0;36m_set_item\u001b[0;34m(self, key, value)\u001b[0m\n\u001b[1;32m   3830\u001b[0m         \u001b[0mensure\u001b[0m \u001b[0mhomogeneity\u001b[0m\u001b[0;34m.\u001b[0m\u001b[0;34m\u001b[0m\u001b[0;34m\u001b[0m\u001b[0m\n\u001b[1;32m   3831\u001b[0m         \"\"\"\n\u001b[0;32m-> 3832\u001b[0;31m         \u001b[0mvalue\u001b[0m \u001b[0;34m=\u001b[0m \u001b[0mself\u001b[0m\u001b[0;34m.\u001b[0m\u001b[0m_sanitize_column\u001b[0m\u001b[0;34m(\u001b[0m\u001b[0mvalue\u001b[0m\u001b[0;34m)\u001b[0m\u001b[0;34m\u001b[0m\u001b[0;34m\u001b[0m\u001b[0m\n\u001b[0m\u001b[1;32m   3833\u001b[0m \u001b[0;34m\u001b[0m\u001b[0m\n\u001b[1;32m   3834\u001b[0m         if (\n",
      "\u001b[0;32m~/opt/anaconda3/lib/python3.9/site-packages/pandas/core/frame.py\u001b[0m in \u001b[0;36m_sanitize_column\u001b[0;34m(self, value)\u001b[0m\n\u001b[1;32m   4536\u001b[0m \u001b[0;34m\u001b[0m\u001b[0m\n\u001b[1;32m   4537\u001b[0m         \u001b[0;32mif\u001b[0m \u001b[0mis_list_like\u001b[0m\u001b[0;34m(\u001b[0m\u001b[0mvalue\u001b[0m\u001b[0;34m)\u001b[0m\u001b[0;34m:\u001b[0m\u001b[0;34m\u001b[0m\u001b[0;34m\u001b[0m\u001b[0m\n\u001b[0;32m-> 4538\u001b[0;31m             \u001b[0mcom\u001b[0m\u001b[0;34m.\u001b[0m\u001b[0mrequire_length_match\u001b[0m\u001b[0;34m(\u001b[0m\u001b[0mvalue\u001b[0m\u001b[0;34m,\u001b[0m \u001b[0mself\u001b[0m\u001b[0;34m.\u001b[0m\u001b[0mindex\u001b[0m\u001b[0;34m)\u001b[0m\u001b[0;34m\u001b[0m\u001b[0;34m\u001b[0m\u001b[0m\n\u001b[0m\u001b[1;32m   4539\u001b[0m         \u001b[0;32mreturn\u001b[0m \u001b[0msanitize_array\u001b[0m\u001b[0;34m(\u001b[0m\u001b[0mvalue\u001b[0m\u001b[0;34m,\u001b[0m \u001b[0mself\u001b[0m\u001b[0;34m.\u001b[0m\u001b[0mindex\u001b[0m\u001b[0;34m,\u001b[0m \u001b[0mcopy\u001b[0m\u001b[0;34m=\u001b[0m\u001b[0;32mTrue\u001b[0m\u001b[0;34m,\u001b[0m \u001b[0mallow_2d\u001b[0m\u001b[0;34m=\u001b[0m\u001b[0;32mTrue\u001b[0m\u001b[0;34m)\u001b[0m\u001b[0;34m\u001b[0m\u001b[0;34m\u001b[0m\u001b[0m\n\u001b[1;32m   4540\u001b[0m \u001b[0;34m\u001b[0m\u001b[0m\n",
      "\u001b[0;32m~/opt/anaconda3/lib/python3.9/site-packages/pandas/core/common.py\u001b[0m in \u001b[0;36mrequire_length_match\u001b[0;34m(data, index)\u001b[0m\n\u001b[1;32m    555\u001b[0m     \"\"\"\n\u001b[1;32m    556\u001b[0m     \u001b[0;32mif\u001b[0m \u001b[0mlen\u001b[0m\u001b[0;34m(\u001b[0m\u001b[0mdata\u001b[0m\u001b[0;34m)\u001b[0m \u001b[0;34m!=\u001b[0m \u001b[0mlen\u001b[0m\u001b[0;34m(\u001b[0m\u001b[0mindex\u001b[0m\u001b[0;34m)\u001b[0m\u001b[0;34m:\u001b[0m\u001b[0;34m\u001b[0m\u001b[0;34m\u001b[0m\u001b[0m\n\u001b[0;32m--> 557\u001b[0;31m         raise ValueError(\n\u001b[0m\u001b[1;32m    558\u001b[0m             \u001b[0;34m\"Length of values \"\u001b[0m\u001b[0;34m\u001b[0m\u001b[0;34m\u001b[0m\u001b[0m\n\u001b[1;32m    559\u001b[0m             \u001b[0;34mf\"({len(data)}) \"\u001b[0m\u001b[0;34m\u001b[0m\u001b[0;34m\u001b[0m\u001b[0m\n",
      "\u001b[0;31mValueError\u001b[0m: Length of values (262) does not match length of index (1047)"
     ]
    }
   ],
   "source": [
    "from sklearn.metrics import classification_report, confusion_matrix\n",
    "predictions_new = clf.predict(X_train)\n",
    "y_train[\"predictions\"]= predictions\n",
    "\n",
    "#Traning Set\n",
    "conf_matrix = confusion_matrix(y_train, predictions_new)\n",
    "TN = conf_matrix[0][0]\n",
    "FN = conf_matrix[1][0]\n",
    "TP = conf_matrix[1][1]\n",
    "FP = conf_matrix[0][1]\n",
    "survivor_train = TP/(TP+FN)\n",
    "fatalities_train = TN/(FP+TN)\n",
    "\n",
    "#for testing set\n",
    "conf_matrix = confusion_matrix(y_test, predictions_new)\n",
    "TN = conf_matrix[0][0]\n",
    "FN = conf_matrix[1][0]\n",
    "TP = conf_matrix[1][1]\n",
    "FP = conf_matrix[0][1]\n",
    "survivor_test = TP/(TP+FN)\n",
    "fatalities_test = TN/(FP+TN)\n",
    "\n",
    "print(\"in‐sample survivors correctly predicted(Train) : {0:.2f}%\\n\".format(survivor_train*100))\n",
    "print(\"in‐sample fatalities predicted(Train)  : {0:.2f}%\\n\".format(fatalities_train*100))\n",
    "print(\"out‐of‐sample Survivors predicted (Test) : {0:.2f}%\\n\".format(survivor_test*100))\n",
    "print(\"out-of‐sample Fatalitities predicted (Test) : {0:.2f}%\\n\".format(fatalities_test*100))\n"
   ]
  },
  {
   "cell_type": "markdown",
   "id": "2152027c-f521-43c7-a7f2-334a9c962a55",
   "metadata": {},
   "source": [
    "Step 4:Compare the out-of-sample accuracy (as defined in step 3) with the random forest\n",
    "obtained in homework #3. (You can either use a table or plot the results of the two algorithms\n",
    "in one figure). Explain any difference in accuracy\n"
   ]
  },
  {
   "cell_type": "code",
   "execution_count": 16,
   "id": "1da48944",
   "metadata": {},
   "outputs": [
    {
     "name": "stderr",
     "output_type": "stream",
     "text": [
      "/var/folders/hr/3dhbmnc50n7csq4c8dgqc60r0000gn/T/ipykernel_36439/434399015.py:5: DataConversionWarning: A column-vector y was passed when a 1d array was expected. Please change the shape of y to (n_samples,), for example using ravel().\n",
      "  clf.fit(X_train, y_train)\n"
     ]
    }
   ],
   "source": [
    "#Random Forest\n",
    "from sklearn.ensemble import RandomForestClassifier\n",
    "#random_state=0, random generator starts at 0\n",
    "clf = RandomForestClassifier(n_estimators =50,max_leaf_nodes = 15, random_state=0)\n",
    "clf.fit(X_train, y_train)\n",
    "#find out if it is doing accurate predictions\n",
    "y_pred = clf.predict(X_test)\n"
   ]
  },
  {
   "cell_type": "code",
   "execution_count": 17,
   "id": "606a2ce4",
   "metadata": {},
   "outputs": [],
   "source": [
    "#check the accuracy\n",
    "y_test[\"predictions\"]= y_pred\n",
    "y_test\n",
    "#only give me survivors, and how often was I right\n",
    "survivors = y_test[y_test[\"survived\"]==1]\n",
    "fatalities = y_test[y_test[\"survived\"]==0]\n",
    "\n",
    "#print(\"Accuracy: \", accuracy)"
   ]
  },
  {
   "cell_type": "code",
   "execution_count": 18,
   "id": "378bab0c",
   "metadata": {},
   "outputs": [
    {
     "data": {
      "text/plain": [
       "True     0.567797\n",
       "False    0.432203\n",
       "dtype: float64"
      ]
     },
     "execution_count": 18,
     "metadata": {},
     "output_type": "execute_result"
    }
   ],
   "source": [
    "#how often is survived=predictions, accuracy score 197 times \n",
    "(survivors[\"survived\"]==survivors[\"predictions\"]).value_counts()/ len(survivors)"
   ]
  },
  {
   "cell_type": "code",
   "execution_count": 19,
   "id": "5bc72c85",
   "metadata": {},
   "outputs": [
    {
     "data": {
      "text/plain": [
       "True     0.909722\n",
       "False    0.090278\n",
       "dtype: float64"
      ]
     },
     "execution_count": 19,
     "metadata": {},
     "output_type": "execute_result"
    }
   ],
   "source": [
    "(fatalities[\"survived\"]==fatalities[\"predictions\"]).value_counts()/ len(fatalities)"
   ]
  },
  {
   "cell_type": "code",
   "execution_count": null,
   "id": "de2f3015-daf5-4aac-948e-26cf05cf2121",
   "metadata": {},
   "outputs": [],
   "source": []
  },
  {
   "cell_type": "code",
   "execution_count": null,
   "id": "c8e3e0fb-14f3-47f7-b40c-c32d5203e2e2",
   "metadata": {},
   "outputs": [],
   "source": []
  },
  {
   "cell_type": "code",
   "execution_count": null,
   "id": "0f22efde-6ea3-4eee-9736-0807aa309251",
   "metadata": {},
   "outputs": [],
   "source": []
  },
  {
   "cell_type": "code",
   "execution_count": null,
   "id": "72c4988e-47ca-4b90-8020-255c0c6964c6",
   "metadata": {},
   "outputs": [],
   "source": []
  },
  {
   "cell_type": "markdown",
   "id": "85f11906-94fa-49f6-92d6-1a8cb5ee4a11",
   "metadata": {},
   "source": [
    "\n",
    "Please try two different network structures (i.e., number of neurons at each hidden layer) and show their respective accuracy.\n",
    "Hidden Layer of 50"
   ]
  },
  {
   "cell_type": "code",
   "execution_count": 20,
   "id": "d112f753",
   "metadata": {},
   "outputs": [
    {
     "name": "stderr",
     "output_type": "stream",
     "text": [
      "/Users/jessicakammann/opt/anaconda3/lib/python3.9/site-packages/sklearn/neural_network/_multilayer_perceptron.py:1109: DataConversionWarning: A column-vector y was passed when a 1d array was expected. Please change the shape of y to (n_samples, ), for example using ravel().\n",
      "  y = column_or_1d(y, warn=True)\n",
      "/Users/jessicakammann/opt/anaconda3/lib/python3.9/site-packages/sklearn/neural_network/_multilayer_perceptron.py:692: ConvergenceWarning: Stochastic Optimizer: Maximum iterations (280) reached and the optimization hasn't converged yet.\n",
      "  warnings.warn(\n"
     ]
    },
    {
     "data": {
      "text/plain": [
       "MLPClassifier(activation='logistic', alpha=1e-07, hidden_layer_sizes=(50, 3),\n",
       "              max_iter=280, random_state=1)"
      ]
     },
     "execution_count": 20,
     "metadata": {},
     "output_type": "execute_result"
    }
   ],
   "source": [
    "clf = MLPClassifier(solver='adam', alpha=1e-7,\n",
    "                    hidden_layer_sizes=(50, 3),activation='logistic',max_iter=280, random_state=1)\n",
    "clf.fit(X_train, y_train)"
   ]
  },
  {
   "cell_type": "code",
   "execution_count": 21,
   "id": "ba296174",
   "metadata": {},
   "outputs": [],
   "source": [
    "predictions = clf.predict(X_test)\n",
    "y_test[\"predictions\"]= predictions\n",
    "#y_test[\"predictions\"]= np.round(predictions[:,1],1)"
   ]
  },
  {
   "cell_type": "code",
   "execution_count": 22,
   "id": "d0fd855a-3256-4f40-8389-65b1dd677350",
   "metadata": {},
   "outputs": [
    {
     "data": {
      "text/plain": [
       "True     0.567797\n",
       "False    0.432203\n",
       "dtype: float64"
      ]
     },
     "execution_count": 22,
     "metadata": {},
     "output_type": "execute_result"
    }
   ],
   "source": [
    "#how often is survived=predictions, accuracy score 197 times \n",
    "(survivors[\"survived\"]==survivors[\"predictions\"]).value_counts()/ len(survivors)"
   ]
  },
  {
   "cell_type": "code",
   "execution_count": 23,
   "id": "fe8ec95c-650f-4da8-8155-77dddd6eb317",
   "metadata": {},
   "outputs": [
    {
     "data": {
      "text/plain": [
       "True     0.909722\n",
       "False    0.090278\n",
       "dtype: float64"
      ]
     },
     "execution_count": 23,
     "metadata": {},
     "output_type": "execute_result"
    }
   ],
   "source": [
    "(fatalities[\"survived\"]==fatalities[\"predictions\"]).value_counts()/ len(fatalities)"
   ]
  },
  {
   "cell_type": "code",
   "execution_count": null,
   "id": "0283865a-5c1a-42e7-8aef-52e9658a6581",
   "metadata": {},
   "outputs": [],
   "source": []
  }
 ],
 "metadata": {
  "kernelspec": {
   "display_name": "Python 3 (ipykernel)",
   "language": "python",
   "name": "python3"
  },
  "language_info": {
   "codemirror_mode": {
    "name": "ipython",
    "version": 3
   },
   "file_extension": ".py",
   "mimetype": "text/x-python",
   "name": "python",
   "nbconvert_exporter": "python",
   "pygments_lexer": "ipython3",
   "version": "3.9.13"
  }
 },
 "nbformat": 4,
 "nbformat_minor": 5
}
