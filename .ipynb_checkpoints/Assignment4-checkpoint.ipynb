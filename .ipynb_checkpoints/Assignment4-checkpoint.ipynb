{
 "cells": [
  {
   "cell_type": "markdown",
   "id": "91ee0e20",
   "metadata": {},
   "source": [
    "Step 1: use our “titanic” dataset in homework #3, and split data in the same way you did in\n",
    "homework #3 – 80% as training and 20% test sets"
   ]
  },
  {
   "cell_type": "code",
   "execution_count": 1,
   "id": "43a2ccc9",
   "metadata": {},
   "outputs": [],
   "source": [
    "import pandas as pd\n",
    "import matplotlib.pyplot as plt\n",
    "from sklearn.model_selection import train_test_split"
   ]
  },
  {
   "cell_type": "code",
   "execution_count": 2,
   "id": "241f6386",
   "metadata": {},
   "outputs": [],
   "source": [
    "df = pd.read_csv('Titanic.csv', index_col=0)"
   ]
  },
  {
   "cell_type": "code",
   "execution_count": 3,
   "id": "bca42fd1",
   "metadata": {},
   "outputs": [
    {
     "data": {
      "text/html": [
       "<div>\n",
       "<style scoped>\n",
       "    .dataframe tbody tr th:only-of-type {\n",
       "        vertical-align: middle;\n",
       "    }\n",
       "\n",
       "    .dataframe tbody tr th {\n",
       "        vertical-align: top;\n",
       "    }\n",
       "\n",
       "    .dataframe thead th {\n",
       "        text-align: right;\n",
       "    }\n",
       "</style>\n",
       "<table border=\"1\" class=\"dataframe\">\n",
       "  <thead>\n",
       "    <tr style=\"text-align: right;\">\n",
       "      <th></th>\n",
       "      <th>pclass</th>\n",
       "      <th>survived</th>\n",
       "      <th>name</th>\n",
       "      <th>sex</th>\n",
       "      <th>age</th>\n",
       "      <th>sibsp</th>\n",
       "      <th>parch</th>\n",
       "      <th>ticket</th>\n",
       "      <th>fare</th>\n",
       "      <th>cabin</th>\n",
       "      <th>embarked</th>\n",
       "      <th>boat</th>\n",
       "      <th>body</th>\n",
       "      <th>home.dest</th>\n",
       "    </tr>\n",
       "  </thead>\n",
       "  <tbody>\n",
       "    <tr>\n",
       "      <th>1</th>\n",
       "      <td>1st</td>\n",
       "      <td>1</td>\n",
       "      <td>Allen, Miss. Elisabeth Walton</td>\n",
       "      <td>female</td>\n",
       "      <td>29.0000</td>\n",
       "      <td>0</td>\n",
       "      <td>0</td>\n",
       "      <td>24160</td>\n",
       "      <td>211.337494</td>\n",
       "      <td>B5</td>\n",
       "      <td>Southampton</td>\n",
       "      <td>2</td>\n",
       "      <td>NaN</td>\n",
       "      <td>St Louis, MO</td>\n",
       "    </tr>\n",
       "    <tr>\n",
       "      <th>2</th>\n",
       "      <td>1st</td>\n",
       "      <td>1</td>\n",
       "      <td>Allison, Master. Hudson Trevor</td>\n",
       "      <td>male</td>\n",
       "      <td>0.9167</td>\n",
       "      <td>1</td>\n",
       "      <td>2</td>\n",
       "      <td>113781</td>\n",
       "      <td>151.550003</td>\n",
       "      <td>C22 C26</td>\n",
       "      <td>Southampton</td>\n",
       "      <td>11</td>\n",
       "      <td>NaN</td>\n",
       "      <td>Montreal, PQ / Chesterville, ON</td>\n",
       "    </tr>\n",
       "    <tr>\n",
       "      <th>3</th>\n",
       "      <td>1st</td>\n",
       "      <td>0</td>\n",
       "      <td>Allison, Miss. Helen Loraine</td>\n",
       "      <td>female</td>\n",
       "      <td>2.0000</td>\n",
       "      <td>1</td>\n",
       "      <td>2</td>\n",
       "      <td>113781</td>\n",
       "      <td>151.550003</td>\n",
       "      <td>C22 C26</td>\n",
       "      <td>Southampton</td>\n",
       "      <td>NaN</td>\n",
       "      <td>NaN</td>\n",
       "      <td>Montreal, PQ / Chesterville, ON</td>\n",
       "    </tr>\n",
       "    <tr>\n",
       "      <th>4</th>\n",
       "      <td>1st</td>\n",
       "      <td>0</td>\n",
       "      <td>Allison, Mr. Hudson Joshua Crei</td>\n",
       "      <td>male</td>\n",
       "      <td>30.0000</td>\n",
       "      <td>1</td>\n",
       "      <td>2</td>\n",
       "      <td>113781</td>\n",
       "      <td>151.550003</td>\n",
       "      <td>C22 C26</td>\n",
       "      <td>Southampton</td>\n",
       "      <td>NaN</td>\n",
       "      <td>135.0</td>\n",
       "      <td>Montreal, PQ / Chesterville, ON</td>\n",
       "    </tr>\n",
       "    <tr>\n",
       "      <th>5</th>\n",
       "      <td>1st</td>\n",
       "      <td>0</td>\n",
       "      <td>Allison, Mrs. Hudson J C (Bessi</td>\n",
       "      <td>female</td>\n",
       "      <td>25.0000</td>\n",
       "      <td>1</td>\n",
       "      <td>2</td>\n",
       "      <td>113781</td>\n",
       "      <td>151.550003</td>\n",
       "      <td>C22 C26</td>\n",
       "      <td>Southampton</td>\n",
       "      <td>NaN</td>\n",
       "      <td>NaN</td>\n",
       "      <td>Montreal, PQ / Chesterville, ON</td>\n",
       "    </tr>\n",
       "    <tr>\n",
       "      <th>...</th>\n",
       "      <td>...</td>\n",
       "      <td>...</td>\n",
       "      <td>...</td>\n",
       "      <td>...</td>\n",
       "      <td>...</td>\n",
       "      <td>...</td>\n",
       "      <td>...</td>\n",
       "      <td>...</td>\n",
       "      <td>...</td>\n",
       "      <td>...</td>\n",
       "      <td>...</td>\n",
       "      <td>...</td>\n",
       "      <td>...</td>\n",
       "      <td>...</td>\n",
       "    </tr>\n",
       "    <tr>\n",
       "      <th>1305</th>\n",
       "      <td>3rd</td>\n",
       "      <td>0</td>\n",
       "      <td>Zabour, Miss. Hileni</td>\n",
       "      <td>female</td>\n",
       "      <td>14.5000</td>\n",
       "      <td>1</td>\n",
       "      <td>0</td>\n",
       "      <td>2665</td>\n",
       "      <td>14.454200</td>\n",
       "      <td>NaN</td>\n",
       "      <td>Cherbourg</td>\n",
       "      <td>NaN</td>\n",
       "      <td>328.0</td>\n",
       "      <td>NaN</td>\n",
       "    </tr>\n",
       "    <tr>\n",
       "      <th>1306</th>\n",
       "      <td>3rd</td>\n",
       "      <td>0</td>\n",
       "      <td>Zabour, Miss. Thamine</td>\n",
       "      <td>female</td>\n",
       "      <td>NaN</td>\n",
       "      <td>1</td>\n",
       "      <td>0</td>\n",
       "      <td>2665</td>\n",
       "      <td>14.454200</td>\n",
       "      <td>NaN</td>\n",
       "      <td>Cherbourg</td>\n",
       "      <td>NaN</td>\n",
       "      <td>NaN</td>\n",
       "      <td>NaN</td>\n",
       "    </tr>\n",
       "    <tr>\n",
       "      <th>1307</th>\n",
       "      <td>3rd</td>\n",
       "      <td>0</td>\n",
       "      <td>Zakarian, Mr. Mapriededer</td>\n",
       "      <td>male</td>\n",
       "      <td>26.5000</td>\n",
       "      <td>0</td>\n",
       "      <td>0</td>\n",
       "      <td>2656</td>\n",
       "      <td>7.225000</td>\n",
       "      <td>NaN</td>\n",
       "      <td>Cherbourg</td>\n",
       "      <td>NaN</td>\n",
       "      <td>304.0</td>\n",
       "      <td>NaN</td>\n",
       "    </tr>\n",
       "    <tr>\n",
       "      <th>1308</th>\n",
       "      <td>3rd</td>\n",
       "      <td>0</td>\n",
       "      <td>Zakarian, Mr. Ortin</td>\n",
       "      <td>male</td>\n",
       "      <td>27.0000</td>\n",
       "      <td>0</td>\n",
       "      <td>0</td>\n",
       "      <td>2670</td>\n",
       "      <td>7.225000</td>\n",
       "      <td>NaN</td>\n",
       "      <td>Cherbourg</td>\n",
       "      <td>NaN</td>\n",
       "      <td>NaN</td>\n",
       "      <td>NaN</td>\n",
       "    </tr>\n",
       "    <tr>\n",
       "      <th>1309</th>\n",
       "      <td>3rd</td>\n",
       "      <td>0</td>\n",
       "      <td>Zimmerman, Mr. Leo</td>\n",
       "      <td>male</td>\n",
       "      <td>29.0000</td>\n",
       "      <td>0</td>\n",
       "      <td>0</td>\n",
       "      <td>315082</td>\n",
       "      <td>7.875000</td>\n",
       "      <td>NaN</td>\n",
       "      <td>Southampton</td>\n",
       "      <td>NaN</td>\n",
       "      <td>NaN</td>\n",
       "      <td>NaN</td>\n",
       "    </tr>\n",
       "  </tbody>\n",
       "</table>\n",
       "<p>1309 rows × 14 columns</p>\n",
       "</div>"
      ],
      "text/plain": [
       "     pclass  survived                             name     sex      age  \\\n",
       "1       1st         1    Allen, Miss. Elisabeth Walton  female  29.0000   \n",
       "2       1st         1   Allison, Master. Hudson Trevor    male   0.9167   \n",
       "3       1st         0     Allison, Miss. Helen Loraine  female   2.0000   \n",
       "4       1st         0  Allison, Mr. Hudson Joshua Crei    male  30.0000   \n",
       "5       1st         0  Allison, Mrs. Hudson J C (Bessi  female  25.0000   \n",
       "...     ...       ...                              ...     ...      ...   \n",
       "1305    3rd         0             Zabour, Miss. Hileni  female  14.5000   \n",
       "1306    3rd         0            Zabour, Miss. Thamine  female      NaN   \n",
       "1307    3rd         0        Zakarian, Mr. Mapriededer    male  26.5000   \n",
       "1308    3rd         0              Zakarian, Mr. Ortin    male  27.0000   \n",
       "1309    3rd         0               Zimmerman, Mr. Leo    male  29.0000   \n",
       "\n",
       "      sibsp  parch  ticket        fare    cabin     embarked boat   body  \\\n",
       "1         0      0   24160  211.337494       B5  Southampton    2    NaN   \n",
       "2         1      2  113781  151.550003  C22 C26  Southampton   11    NaN   \n",
       "3         1      2  113781  151.550003  C22 C26  Southampton  NaN    NaN   \n",
       "4         1      2  113781  151.550003  C22 C26  Southampton  NaN  135.0   \n",
       "5         1      2  113781  151.550003  C22 C26  Southampton  NaN    NaN   \n",
       "...     ...    ...     ...         ...      ...          ...  ...    ...   \n",
       "1305      1      0    2665   14.454200      NaN    Cherbourg  NaN  328.0   \n",
       "1306      1      0    2665   14.454200      NaN    Cherbourg  NaN    NaN   \n",
       "1307      0      0    2656    7.225000      NaN    Cherbourg  NaN  304.0   \n",
       "1308      0      0    2670    7.225000      NaN    Cherbourg  NaN    NaN   \n",
       "1309      0      0  315082    7.875000      NaN  Southampton  NaN    NaN   \n",
       "\n",
       "                            home.dest  \n",
       "1                        St Louis, MO  \n",
       "2     Montreal, PQ / Chesterville, ON  \n",
       "3     Montreal, PQ / Chesterville, ON  \n",
       "4     Montreal, PQ / Chesterville, ON  \n",
       "5     Montreal, PQ / Chesterville, ON  \n",
       "...                               ...  \n",
       "1305                              NaN  \n",
       "1306                              NaN  \n",
       "1307                              NaN  \n",
       "1308                              NaN  \n",
       "1309                              NaN  \n",
       "\n",
       "[1309 rows x 14 columns]"
      ]
     },
     "execution_count": 3,
     "metadata": {},
     "output_type": "execute_result"
    }
   ],
   "source": [
    "df"
   ]
  },
  {
   "cell_type": "code",
   "execution_count": 4,
   "id": "68a6b9df",
   "metadata": {},
   "outputs": [],
   "source": [
    "numerical_column= [\"survived\",\"age\", \"sibsp\"]\n",
    "categorical_column= [\"pclass\", \"sex\"]"
   ]
  },
  {
   "cell_type": "code",
   "execution_count": 5,
   "id": "38199594",
   "metadata": {},
   "outputs": [],
   "source": [
    "#replace null values with mean\n",
    "for column_name in [\"age\",\"sibsp\"]:\n",
    "    df[column_name].fillna(int(df[column_name].mean()), inplace=True)"
   ]
  },
  {
   "cell_type": "code",
   "execution_count": 6,
   "id": "26345f4c",
   "metadata": {},
   "outputs": [
    {
     "data": {
      "text/html": [
       "<div>\n",
       "<style scoped>\n",
       "    .dataframe tbody tr th:only-of-type {\n",
       "        vertical-align: middle;\n",
       "    }\n",
       "\n",
       "    .dataframe tbody tr th {\n",
       "        vertical-align: top;\n",
       "    }\n",
       "\n",
       "    .dataframe thead th {\n",
       "        text-align: right;\n",
       "    }\n",
       "</style>\n",
       "<table border=\"1\" class=\"dataframe\">\n",
       "  <thead>\n",
       "    <tr style=\"text-align: right;\">\n",
       "      <th></th>\n",
       "      <th>pclass</th>\n",
       "      <th>sex</th>\n",
       "    </tr>\n",
       "  </thead>\n",
       "  <tbody>\n",
       "    <tr>\n",
       "      <th>0</th>\n",
       "      <td>3rd</td>\n",
       "      <td>male</td>\n",
       "    </tr>\n",
       "  </tbody>\n",
       "</table>\n",
       "</div>"
      ],
      "text/plain": [
       "  pclass   sex\n",
       "0    3rd  male"
      ]
     },
     "execution_count": 6,
     "metadata": {},
     "output_type": "execute_result"
    }
   ],
   "source": [
    "df[categorical_column].mode()\n",
    "#checks if they are all categorical variables"
   ]
  },
  {
   "cell_type": "code",
   "execution_count": 7,
   "id": "8fec565c",
   "metadata": {},
   "outputs": [],
   "source": [
    "#replace null values with mean\n",
    "for column_name in [\"pclass\",\"sex\"]:\n",
    "    #fill most common values\n",
    "    df[column_name].fillna(df[column_name].mode(), inplace=True)\n",
    "    #binaries categorical values\n",
    "    encoded_columns= pd.get_dummies(df[column_name],prefix= column_name)\n",
    "    #concat to existing dataframe\n",
    "    df=pd.concat([df,encoded_columns],axis=1)\n",
    "    #delete, axis=1, column of dataframe\n",
    "    df.drop(column_name, axis=1, inplace=True)"
   ]
  },
  {
   "cell_type": "code",
   "execution_count": 8,
   "id": "e321442b",
   "metadata": {},
   "outputs": [],
   "source": [
    "#training and testing\n",
    "X=df[[\"age\", \"sibsp\", \"sex_female\",\"sex_male\", \"pclass_1st\",\"pclass_2nd\",\"pclass_3rd\"]]\n",
    "y=df[[\"survived\"]]\n",
    "X_train, X_test, y_train, y_test = train_test_split(\n",
    "       X, y, test_size=0.2, random_state=42)"
   ]
  },
  {
   "cell_type": "markdown",
   "id": "06582fe0",
   "metadata": {},
   "source": [
    "Step 2: Fit a neural network using independent variables ‘pclass + sex + age + sibsp’ and\n",
    "dependent variable ‘survived’. Fill in n/a attributes with the average of the same attributes\n",
    "from other training examples. Use 2 hidden layers and set the activation functions for both the\n",
    "hidden and output layer to be the sigmoid function. Set “solver” parameter as either SGD\n",
    "(stochastic gradient descend) or Adam (similar to SGD but optimized performance with mini\n",
    "batches). You can adjust parameter “alpha” for regularization (to control overfitting) and other\n",
    "parameters such as “learning rate” and “momentum” as needed."
   ]
  },
  {
   "cell_type": "code",
   "execution_count": 9,
   "id": "d9fe3c6e",
   "metadata": {},
   "outputs": [
    {
     "name": "stderr",
     "output_type": "stream",
     "text": [
      "/Users/jessicakammann/opt/anaconda3/lib/python3.9/site-packages/sklearn/neural_network/_multilayer_perceptron.py:1109: DataConversionWarning: A column-vector y was passed when a 1d array was expected. Please change the shape of y to (n_samples, ), for example using ravel().\n",
      "  y = column_or_1d(y, warn=True)\n",
      "/Users/jessicakammann/opt/anaconda3/lib/python3.9/site-packages/sklearn/neural_network/_multilayer_perceptron.py:692: ConvergenceWarning: Stochastic Optimizer: Maximum iterations (200) reached and the optimization hasn't converged yet.\n",
      "  warnings.warn(\n"
     ]
    },
    {
     "data": {
      "text/plain": [
       "MLPClassifier(activation='logistic', alpha=1e-05, hidden_layer_sizes=(5, 2),\n",
       "              random_state=1)"
      ]
     },
     "execution_count": 9,
     "metadata": {},
     "output_type": "execute_result"
    }
   ],
   "source": [
    "from sklearn.neural_network import MLPClassifier\n",
    "\n",
    "clf = MLPClassifier(solver='adam', alpha=1e-5,\n",
    "                    hidden_layer_sizes=(15, 2),activation='logistic', random_state=1)\n",
    "clf.fit(X_train, y_train)"
   ]
  },
  {
   "cell_type": "code",
   "execution_count": 10,
   "id": "1021a685",
   "metadata": {},
   "outputs": [],
   "source": [
    "# Step 4 \n",
    "predictions = clf.predict(X_test)"
   ]
  },
  {
   "cell_type": "code",
   "execution_count": 11,
   "id": "b248e307",
   "metadata": {},
   "outputs": [],
   "source": [
    "y_test[\"predictions\"]= predictions"
   ]
  },
  {
   "cell_type": "code",
   "execution_count": 12,
   "id": "892fb454",
   "metadata": {},
   "outputs": [],
   "source": [
    "#only give me survivors, and how often was I right\n",
    "survivors = y_test[y_test[\"survived\"]==1]\n",
    "fatalities = y_test[y_test[\"survived\"]==0]"
   ]
  },
  {
   "cell_type": "code",
   "execution_count": 13,
   "id": "8929b030",
   "metadata": {},
   "outputs": [
    {
     "data": {
      "text/plain": [
       "True     0.601695\n",
       "False    0.398305\n",
       "dtype: float64"
      ]
     },
     "execution_count": 13,
     "metadata": {},
     "output_type": "execute_result"
    }
   ],
   "source": [
    "#how often is survived=predictions, accuracy score 197 times \n",
    "(survivors[\"survived\"]==survivors[\"predictions\"]).value_counts()/ len(survivors)"
   ]
  },
  {
   "cell_type": "code",
   "execution_count": 14,
   "id": "97b17093",
   "metadata": {},
   "outputs": [
    {
     "data": {
      "text/plain": [
       "True     0.895833\n",
       "False    0.104167\n",
       "dtype: float64"
      ]
     },
     "execution_count": 14,
     "metadata": {},
     "output_type": "execute_result"
    }
   ],
   "source": [
    "(fatalities[\"survived\"]==fatalities[\"predictions\"]).value_counts()/ len(fatalities)"
   ]
  },
  {
   "cell_type": "code",
   "execution_count": 15,
   "id": "ada7a900",
   "metadata": {},
   "outputs": [
    {
     "name": "stderr",
     "output_type": "stream",
     "text": [
      "/var/folders/hr/3dhbmnc50n7csq4c8dgqc60r0000gn/T/ipykernel_16484/434399015.py:5: DataConversionWarning: A column-vector y was passed when a 1d array was expected. Please change the shape of y to (n_samples,), for example using ravel().\n",
      "  clf.fit(X_train, y_train)\n"
     ]
    }
   ],
   "source": [
    "#Random Forest\n",
    "from sklearn.ensemble import RandomForestClassifier\n",
    "#random_state=0, random generator starts at 0\n",
    "clf = RandomForestClassifier(n_estimators =50,max_leaf_nodes = 15, random_state=0)\n",
    "clf.fit(X_train, y_train)\n",
    "#find out if it is doing accurate predictions\n",
    "y_pred = clf.predict(X_test)\n"
   ]
  },
  {
   "cell_type": "code",
   "execution_count": 16,
   "id": "bc5bfee4",
   "metadata": {},
   "outputs": [],
   "source": [
    "#check the accuracy\n",
    "y_test[\"predictions\"]= y_pred\n",
    "y_test\n",
    "#only give me survivors, and how often was I right\n",
    "survivors = y_test[y_test[\"survived\"]==1]\n",
    "fatalities = y_test[y_test[\"survived\"]==0]\n",
    "\n",
    "#print(\"Accuracy: \", accuracy)"
   ]
  },
  {
   "cell_type": "code",
   "execution_count": 17,
   "id": "1897d59d",
   "metadata": {},
   "outputs": [
    {
     "data": {
      "text/plain": [
       "True     0.567797\n",
       "False    0.432203\n",
       "dtype: float64"
      ]
     },
     "execution_count": 17,
     "metadata": {},
     "output_type": "execute_result"
    }
   ],
   "source": [
    "#how often is survived=predictions, accuracy score 197 times \n",
    "(survivors[\"survived\"]==survivors[\"predictions\"]).value_counts()/ len(survivors)"
   ]
  },
  {
   "cell_type": "code",
   "execution_count": 18,
   "id": "8c850d05",
   "metadata": {},
   "outputs": [
    {
     "data": {
      "text/plain": [
       "True     0.909722\n",
       "False    0.090278\n",
       "dtype: float64"
      ]
     },
     "execution_count": 18,
     "metadata": {},
     "output_type": "execute_result"
    }
   ],
   "source": [
    "(fatalities[\"survived\"]==fatalities[\"predictions\"]).value_counts()/ len(fatalities)"
   ]
  },
  {
   "cell_type": "code",
   "execution_count": null,
   "id": "3757fe7b",
   "metadata": {},
   "outputs": [],
   "source": []
  },
  {
   "cell_type": "code",
   "execution_count": null,
   "id": "dedce6a0",
   "metadata": {},
   "outputs": [],
   "source": []
  },
  {
   "cell_type": "code",
   "execution_count": null,
   "id": "df7ebc37",
   "metadata": {},
   "outputs": [],
   "source": []
  }
 ],
 "metadata": {
  "kernelspec": {
   "display_name": "Python 3 (ipykernel)",
   "language": "python",
   "name": "python3"
  },
  "language_info": {
   "codemirror_mode": {
    "name": "ipython",
    "version": 3
   },
   "file_extension": ".py",
   "mimetype": "text/x-python",
   "name": "python",
   "nbconvert_exporter": "python",
   "pygments_lexer": "ipython3",
   "version": "3.9.13"
  }
 },
 "nbformat": 4,
 "nbformat_minor": 5
}
